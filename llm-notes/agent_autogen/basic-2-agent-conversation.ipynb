{
 "cells": [
  {
   "cell_type": "markdown",
   "id": "e1c141e3-d27b-48ee-a8ef-4db1af71210e",
   "metadata": {},
   "source": [
    "# quickstart\n",
    "\n",
    "参考：https://microsoft.github.io/autogen/docs/Use-Cases/agent_chat"
   ]
  },
  {
   "cell_type": "code",
   "execution_count": 1,
   "id": "b6cd0cde-5958-4b34-9212-d926e80371fb",
   "metadata": {},
   "outputs": [],
   "source": [
    "llm_config = {\n",
    "    'model': 'Qwen1.5-14B-Chat-GPTQ-Int4',\n",
    "    'base_url': 'http://127.0.0.1:7777/v1',\n",
    "    'api_type': 'open_ai',\n",
    "    'api_key': 'NULL'\n",
    "}"
   ]
  },
  {
   "cell_type": "code",
   "execution_count": 2,
   "id": "17cbc1b5-4128-43a7-a266-1257da3dbdc1",
   "metadata": {},
   "outputs": [],
   "source": [
    "import os\n",
    "from autogen import AssistantAgent, UserProxyAgent\n",
    "\n",
    "# create an AssistantAgent instance named \"assistant\" with the LLM configuration.\n",
    "assistant = AssistantAgent(name=\"assistant\", llm_config=llm_config)\n",
    "\n",
    "# create a UserProxyAgent instance named \"user_proxy\"\n",
    "user_proxy = UserProxyAgent(name=\"user_proxy\",\n",
    "                            code_execution_config={\n",
    "                                \"work_dir\": \"output\",\n",
    "                                \"use_docker\": False\n",
    "                            },\n",
    "                            llm_config=llm_config)"
   ]
  },
  {
   "cell_type": "code",
   "execution_count": 3,
   "id": "d577c5d5-d977-4b30-988f-b52495559d8f",
   "metadata": {},
   "outputs": [
    {
     "name": "stdout",
     "output_type": "stream",
     "text": [
      "\u001b[33muser_proxy\u001b[0m (to assistant):\n",
      "\n",
      "Write python code to output numbers 1 to 5, and then store it in a file\n",
      "\n",
      "--------------------------------------------------------------------------------\n",
      "\u001b[33massistant\u001b[0m (to user_proxy):\n",
      "\n",
      "Here's a Python script that writes numbers 1 to 5 to a file named \"numbers.txt\":\n",
      "```python\n",
      "# filename: numbers.py\n",
      "\n",
      "# Open a file in write mode\n",
      "with open('numbers.txt', 'w') as file:\n",
      "    # Loop through numbers 1 to 5 and write them to the file\n",
      "    for i in range(1, 6):\n",
      "        file.write(str(i) + \"\\n\")\n",
      "\n",
      "# Print a message indicating the file has been written\n",
      "print(\"Numbers 1 to 5 have been written to numbers.txt.\")\n",
      "```\n",
      "To execute the code, copy and paste it into a Python environment or save it as \"numbers.py\" and run it using the command `python numbers.py`. This will create a file called \"numbers.txt\" in the current directory with the numbers 1 to 5 on separate lines.\n",
      "\n",
      "--------------------------------------------------------------------------------\n"
     ]
    },
    {
     "name": "stdin",
     "output_type": "stream",
     "text": [
      "Provide feedback to assistant. Press enter to skip and use auto-reply, or type 'exit' to end the conversation:  \n"
     ]
    },
    {
     "name": "stdout",
     "output_type": "stream",
     "text": [
      "\u001b[31m\n",
      ">>>>>>>> NO HUMAN INPUT RECEIVED.\u001b[0m\n",
      "\u001b[31m\n",
      ">>>>>>>> USING AUTO REPLY...\u001b[0m\n",
      "\u001b[31m\n",
      ">>>>>>>> EXECUTING CODE BLOCK 0 (inferred language is python)...\u001b[0m\n",
      "\u001b[33muser_proxy\u001b[0m (to assistant):\n",
      "\n",
      "exitcode: 0 (execution succeeded)\n",
      "Code output: \n",
      "Numbers 1 to 5 have been written to numbers.txt.\n",
      "\n",
      "\n",
      "--------------------------------------------------------------------------------\n",
      "\u001b[33massistant\u001b[0m (to user_proxy):\n",
      "\n",
      "TERMINATE\n",
      "\n",
      "--------------------------------------------------------------------------------\n"
     ]
    },
    {
     "name": "stdin",
     "output_type": "stream",
     "text": [
      "Provide feedback to assistant. Press enter to skip and use auto-reply, or type 'exit' to end the conversation:  \n"
     ]
    },
    {
     "name": "stdout",
     "output_type": "stream",
     "text": [
      "\u001b[31m\n",
      ">>>>>>>> NO HUMAN INPUT RECEIVED.\u001b[0m\n"
     ]
    }
   ],
   "source": [
    "# the assistant receives a message from the user, which contains the task description\n",
    "chat_res = user_proxy.initiate_chat(\n",
    "    assistant,\n",
    "    message=\"\"\"Write python code to output numbers 1 to 5, and then store it in a file\"\"\",\n",
    ")"
   ]
  },
  {
   "cell_type": "code",
   "execution_count": 4,
   "id": "d96b0826-8a10-4c5d-9e78-972237b570d4",
   "metadata": {},
   "outputs": [
    {
     "data": {
      "text/plain": [
       "[{'content': 'Write python code to output numbers 1 to 5, and then store it in a file',\n",
       "  'role': 'assistant'},\n",
       " {'content': 'Here\\'s a Python script that writes numbers 1 to 5 to a file named \"numbers.txt\":\\n```python\\n# filename: numbers.py\\n\\n# Open a file in write mode\\nwith open(\\'numbers.txt\\', \\'w\\') as file:\\n    # Loop through numbers 1 to 5 and write them to the file\\n    for i in range(1, 6):\\n        file.write(str(i) + \"\\\\n\")\\n\\n# Print a message indicating the file has been written\\nprint(\"Numbers 1 to 5 have been written to numbers.txt.\")\\n```\\nTo execute the code, copy and paste it into a Python environment or save it as \"numbers.py\" and run it using the command `python numbers.py`. This will create a file called \"numbers.txt\" in the current directory with the numbers 1 to 5 on separate lines.',\n",
       "  'role': 'user'},\n",
       " {'content': 'exitcode: 0 (execution succeeded)\\nCode output: \\nNumbers 1 to 5 have been written to numbers.txt.\\n',\n",
       "  'role': 'assistant'},\n",
       " {'content': 'TERMINATE', 'role': 'user'}]"
      ]
     },
     "execution_count": 4,
     "metadata": {},
     "output_type": "execute_result"
    }
   ],
   "source": [
    "chat_res.chat_history"
   ]
  },
  {
   "cell_type": "code",
   "execution_count": 5,
   "id": "a2dd798f-0ae9-4e19-9c87-027e466c4069",
   "metadata": {},
   "outputs": [
    {
     "data": {
      "text/plain": [
       "''"
      ]
     },
     "execution_count": 5,
     "metadata": {},
     "output_type": "execute_result"
    }
   ],
   "source": [
    "chat_res.summary"
   ]
  },
  {
   "cell_type": "code",
   "execution_count": 6,
   "id": "f6912759-e714-4309-9062-e16c98652118",
   "metadata": {},
   "outputs": [
    {
     "data": {
      "text/plain": [
       "{'usage_including_cached_inference': {'total_cost': 0,\n",
       "  'Qwen1.5-14B-Chat-GPTQ-Int4': {'cost': 0,\n",
       "   'prompt_tokens': 1196,\n",
       "   'completion_tokens': 179,\n",
       "   'total_tokens': 1375}},\n",
       " 'usage_excluding_cached_inference': {'total_cost': 0,\n",
       "  'Qwen1.5-14B-Chat-GPTQ-Int4': {'cost': 0,\n",
       "   'prompt_tokens': 1196,\n",
       "   'completion_tokens': 179,\n",
       "   'total_tokens': 1375}}}"
      ]
     },
     "execution_count": 6,
     "metadata": {},
     "output_type": "execute_result"
    }
   ],
   "source": [
    "chat_res.cost"
   ]
  },
  {
   "cell_type": "code",
   "execution_count": null,
   "id": "0632d8db-dccf-4842-b79f-b3e6789d7b64",
   "metadata": {},
   "outputs": [],
   "source": []
  }
 ],
 "metadata": {
  "kernelspec": {
   "display_name": "Python 3 (ipykernel)",
   "language": "python",
   "name": "python3"
  },
  "language_info": {
   "codemirror_mode": {
    "name": "ipython",
    "version": 3
   },
   "file_extension": ".py",
   "mimetype": "text/x-python",
   "name": "python",
   "nbconvert_exporter": "python",
   "pygments_lexer": "ipython3",
   "version": "3.10.14"
  }
 },
 "nbformat": 4,
 "nbformat_minor": 5
}
