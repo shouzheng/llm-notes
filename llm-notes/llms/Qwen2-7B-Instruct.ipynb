{
 "cells": [
  {
   "cell_type": "markdown",
   "id": "7b683f72-1a7f-45c1-bb8e-101edb302d27",
   "metadata": {},
   "source": [
    "# 变量设置"
   ]
  },
  {
   "cell_type": "code",
   "execution_count": 1,
   "id": "0ac9e9eb-9460-4712-9cab-f59429e2474c",
   "metadata": {},
   "outputs": [],
   "source": [
    "LLM_PATH = \"/data1/LLM/Qwen2-7B-Instruct\"\n",
    "npu_nums = 1"
   ]
  },
  {
   "cell_type": "code",
   "execution_count": 2,
   "id": "3ed8de5f-2a9f-4cc1-80d6-f45eb701df45",
   "metadata": {},
   "outputs": [],
   "source": [
    "if npu_nums == 2:\n",
    "    import os\n",
    "    os.environ.setdefault('CUDA_VISIBLE_DEVICES', '0,1')\n",
    "else:\n",
    "    pass"
   ]
  },
  {
   "cell_type": "markdown",
   "id": "f041b0cf-6313-4ce8-8122-286c061d2c0b",
   "metadata": {},
   "source": [
    "# 模型加载"
   ]
  },
  {
   "cell_type": "code",
   "execution_count": 3,
   "id": "ea0102b5-27bb-44cc-ba01-5a17b46b0d7a",
   "metadata": {},
   "outputs": [
    {
     "data": {
      "application/vnd.jupyter.widget-view+json": {
       "model_id": "4c580c8988144c96805fd3fe004c5194",
       "version_major": 2,
       "version_minor": 0
      },
      "text/plain": [
       "Loading checkpoint shards:   0%|          | 0/4 [00:00<?, ?it/s]"
      ]
     },
     "metadata": {},
     "output_type": "display_data"
    },
    {
     "name": "stderr",
     "output_type": "stream",
     "text": [
      "Special tokens have been added in the vocabulary, make sure the associated word embeddings are fine-tuned or trained.\n"
     ]
    }
   ],
   "source": [
    "from transformers import AutoModelForCausalLM, AutoTokenizer\n",
    "device = \"cuda\" # the device to load the model onto\n",
    "\n",
    "model = AutoModelForCausalLM.from_pretrained(\n",
    "    LLM_PATH,\n",
    "    torch_dtype=\"auto\",\n",
    "    device_map=\"auto\"\n",
    ")\n",
    "tokenizer = AutoTokenizer.from_pretrained(LLM_PATH)\n",
    "\n",
    "messages = [\n",
    "    {\"role\": \"system\", \"content\": \"You are a helpful assistant.\"}\n",
    "]\n",
    "\n",
    "# prompt = \"Give me a short introduction to large language model.\"\n",
    "def chat(prompt):\n",
    "    messages.append({\"role\": \"user\", \"content\": prompt})\n",
    "\n",
    "    text = tokenizer.apply_chat_template(\n",
    "        messages,\n",
    "        tokenize=False,\n",
    "        add_generation_prompt=True\n",
    "    )\n",
    "\n",
    "    model_inputs = tokenizer([text], return_tensors=\"pt\").to(device)\n",
    "\n",
    "    generated_ids = model.generate(\n",
    "        model_inputs.input_ids,\n",
    "        max_new_tokens=512\n",
    "    )\n",
    "    generated_ids = [\n",
    "        output_ids[len(input_ids):] for input_ids, output_ids in zip(model_inputs.input_ids, generated_ids)\n",
    "    ]\n",
    "    \n",
    "    response = tokenizer.batch_decode(generated_ids, skip_special_tokens=True)[0]\n",
    "    messages.append({\"role\": \"assistant\", \"content\": response})\n",
    "    return response"
   ]
  },
  {
   "cell_type": "markdown",
   "id": "c1824b4d-594a-4989-92b1-9b62eb91c432",
   "metadata": {},
   "source": [
    "# chat"
   ]
  },
  {
   "cell_type": "code",
   "execution_count": 4,
   "id": "adae2438-a9a9-4de2-993c-cf15eaf5c91f",
   "metadata": {},
   "outputs": [
    {
     "data": {
      "text/plain": [
       "'你好！很高兴能为你提供帮助。有什么我可以为你做的吗？'"
      ]
     },
     "execution_count": 4,
     "metadata": {},
     "output_type": "execute_result"
    }
   ],
   "source": [
    "chat('你好')"
   ]
  },
  {
   "cell_type": "code",
   "execution_count": 5,
   "id": "1e55bffc-3f06-4e0f-9053-18dc1f4b1470",
   "metadata": {},
   "outputs": [
    {
     "data": {
      "text/plain": [
       "'我是一个基于AI技术的助手，能够理解和生成自然语言文本。我的功能包括但不限于回答问题、提供建议、生成代码、聊天等。我由阿里云开发和维护，致力于为用户提供高效、智能的服务。无论你需要解答知识性问题、获取信息、学习新技能，还是只是想找个伴聊聊天，我都在这里，随时准备为你服务。'"
      ]
     },
     "execution_count": 5,
     "metadata": {},
     "output_type": "execute_result"
    }
   ],
   "source": [
    "chat('请简单介绍下自己')"
   ]
  },
  {
   "cell_type": "code",
   "execution_count": 7,
   "id": "4d722763-2c02-4871-a1ea-55a5bf81ab74",
   "metadata": {},
   "outputs": [
    {
     "data": {
      "text/plain": [
       "[{'role': 'system', 'content': 'You are a helpful assistant.'},\n",
       " {'role': 'user', 'content': '你好'},\n",
       " {'role': 'assistant', 'content': '你好！很高兴能为你提供帮助。有什么我可以为你做的吗？'},\n",
       " {'role': 'user', 'content': '请简单介绍下自己'},\n",
       " {'role': 'assistant',\n",
       "  'content': '我是一个基于AI技术的助手，能够理解和生成自然语言文本。我的功能包括但不限于回答问题、提供建议、生成代码、聊天等。我由阿里云开发和维护，致力于为用户提供高效、智能的服务。无论你需要解答知识性问题、获取信息、学习新技能，还是只是想找个伴聊聊天，我都在这里，随时准备为你服务。'}]"
      ]
     },
     "execution_count": 7,
     "metadata": {},
     "output_type": "execute_result"
    }
   ],
   "source": [
    "messages"
   ]
  },
  {
   "cell_type": "code",
   "execution_count": null,
   "id": "d2474caf-376c-4759-9011-a8b9a9ee135a",
   "metadata": {},
   "outputs": [],
   "source": []
  }
 ],
 "metadata": {
  "kernelspec": {
   "display_name": "Python 3 (ipykernel)",
   "language": "python",
   "name": "python3"
  },
  "language_info": {
   "codemirror_mode": {
    "name": "ipython",
    "version": 3
   },
   "file_extension": ".py",
   "mimetype": "text/x-python",
   "name": "python",
   "nbconvert_exporter": "python",
   "pygments_lexer": "ipython3",
   "version": "3.10.14"
  }
 },
 "nbformat": 4,
 "nbformat_minor": 5
}
