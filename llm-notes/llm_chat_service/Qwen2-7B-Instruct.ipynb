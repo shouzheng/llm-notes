{
 "cells": [
  {
   "cell_type": "code",
   "execution_count": 1,
   "id": "afd99b14-2ed3-4292-944b-9d6f780ade60",
   "metadata": {},
   "outputs": [],
   "source": [
    "python_paths = ['/data1/llm-notes/llm-notes/llm_chat_service']\n",
    "\n",
    "import sys\n",
    "sys.path.extend(python_paths)\n",
    "\n",
    "from chat_client import ChatClient\n",
    "client = ChatClient(api_key='NULL', base_url='http://127.0.0.1:7777/v1',\n",
    "                    model='Qwen2-7B-Instruct')"
   ]
  },
  {
   "cell_type": "code",
   "execution_count": 2,
   "id": "6ceaedd8-9cd6-4e0c-bd36-606c3b8d0006",
   "metadata": {},
   "outputs": [
    {
     "name": "stdout",
     "output_type": "stream",
     "text": [
      "CPU times: user 15.9 ms, sys: 7.94 ms, total: 23.8 ms\n",
      "Wall time: 771 ms\n"
     ]
    },
    {
     "data": {
      "text/plain": [
       "'你好！很高兴能帮助你。有什么问题或需要讨论的议题吗？无论是关于技术、学习、生活还是其他任何方面，都可以提问哦。'"
      ]
     },
     "execution_count": 2,
     "metadata": {},
     "output_type": "execute_result"
    }
   ],
   "source": [
    "%%time\n",
    "client.chat(\"你好\")"
   ]
  },
  {
   "cell_type": "code",
   "execution_count": 3,
   "id": "c5e72dce-8a1e-4083-bd31-0dc78abb80cb",
   "metadata": {},
   "outputs": [
    {
     "data": {
      "text/plain": [
       "[('你好', '你好！很高兴能帮助你。有什么问题或需要讨论的议题吗？无论是关于技术、学习、生活还是其他任何方面，都可以提问哦。')]"
      ]
     },
     "execution_count": 3,
     "metadata": {},
     "output_type": "execute_result"
    }
   ],
   "source": [
    "client.history"
   ]
  },
  {
   "cell_type": "code",
   "execution_count": null,
   "id": "a3ae0db1-c2c3-4d5f-a391-b4085fafff08",
   "metadata": {},
   "outputs": [],
   "source": []
  }
 ],
 "metadata": {
  "kernelspec": {
   "display_name": "Python 3 (ipykernel)",
   "language": "python",
   "name": "python3"
  },
  "language_info": {
   "codemirror_mode": {
    "name": "ipython",
    "version": 3
   },
   "file_extension": ".py",
   "mimetype": "text/x-python",
   "name": "python",
   "nbconvert_exporter": "python",
   "pygments_lexer": "ipython3",
   "version": "3.10.14"
  }
 },
 "nbformat": 4,
 "nbformat_minor": 5
}
